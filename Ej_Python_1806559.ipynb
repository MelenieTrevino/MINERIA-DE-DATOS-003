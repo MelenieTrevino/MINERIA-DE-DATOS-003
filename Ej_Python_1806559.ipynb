{
 "cells": [
  {
   "cell_type": "markdown",
   "metadata": {},
   "source": [
    " Melenie Anahi Treviño Elizondo\n",
    " ### Ejercicio 1"
   ]
  },
  {
   "cell_type": "markdown",
   "metadata": {},
   "source": [
    " Realiza una variable con tu matricula y realiza una secuencia de imprimir con tu nombre y tu matricula concatenados."
   ]
  },
  {
   "cell_type": "code",
   "execution_count": 5,
   "metadata": {},
   "outputs": [
    {
     "name": "stdout",
     "output_type": "stream",
     "text": [
      "1806559 Melenie Anahi Treviño Elizondo\n"
     ]
    }
   ],
   "source": [
    "Matricula = 1806559\n",
    "Nombre = \"Melenie Anahi Treviño Elizondo\"\n",
    "print (Matricula,Nombre)"
   ]
  },
  {
   "cell_type": "markdown",
   "metadata": {},
   "source": [
    " ### Ejercicio 2\n",
    "  \n",
    "Pidiendo el input del usuario pide dos números y crea una pequeña calculadora con los operadores básicos de suma, resta, multiplicación, división, y exponente."
   ]
  },
  {
   "cell_type": "code",
   "execution_count": 1,
   "metadata": {},
   "outputs": [
    {
     "name": "stdout",
     "output_type": "stream",
     "text": [
      "Introducir numero:2\n",
      "Introducir otro numero:2\n",
      "Suma=  4\n",
      "Resta=  0\n",
      "Multiplicacion=  4\n",
      "Division=  1.0\n",
      "Exponente=  4\n"
     ]
    }
   ],
   "source": [
    "a=int(input (\"Introducir numero:\"))\n",
    "b=int(input (\"Introducir otro numero:\"))\n",
    "\n",
    "print (\"Suma= \",a+b)\n",
    "print (\"Resta= \",a-b)\n",
    "print (\"Multiplicacion= \",a*b)\n",
    "print (\"Division= \",a/b)\n",
    "print (\"Exponente= \",a**b)"
   ]
  },
  {
   "cell_type": "markdown",
   "metadata": {},
   "source": [
    "### Ejercicio 3\n",
    " Con loop while o for, realiza una lista de 10 numeros multiplos de 3, y después realiza una función de loop que sume todos los números dentro del arreglo."
   ]
  },
  {
   "cell_type": "code",
   "execution_count": 13,
   "metadata": {},
   "outputs": [
    {
     "name": "stdout",
     "output_type": "stream",
     "text": [
      "[3, 6, 9, 12, 15, 18, 21, 24, 27, 30]\n"
     ]
    }
   ],
   "source": [
    "numeros = [i*3 for i in range(1,11)]\n",
    "print (numeros)\n",
    "         "
   ]
  },
  {
   "cell_type": "code",
   "execution_count": 17,
   "metadata": {},
   "outputs": [
    {
     "data": {
      "text/plain": [
       "165"
      ]
     },
     "execution_count": 17,
     "metadata": {},
     "output_type": "execute_result"
    }
   ],
   "source": [
    "def sumar(numeros):\n",
    "    suma=0\n",
    "    for i in range(len(numeros)):\n",
    "        suma=suma+numeros[i]\n",
    "    return suma\n",
    "sumar(numeros)\n"
   ]
  },
  {
   "cell_type": "markdown",
   "metadata": {},
   "source": [
    "### Ejercicio 4\n",
    "*Con una función de if else, revisar si un número es par o es impar.\n",
    "\n"
   ]
  },
  {
   "cell_type": "code",
   "execution_count": 18,
   "metadata": {},
   "outputs": [
    {
     "name": "stdout",
     "output_type": "stream",
     "text": [
      "Introducir numero:2\n",
      "El número 2 es par.\n"
     ]
    }
   ],
   "source": [
    "a =int(input (\"Introducir numero:\"))\n",
    "\n",
    "if a % 2 == 0:\n",
    "    print('El número', a, 'es par.')\n",
    "else:\n",
    "    print('El número', a, 'es impar.')"
   ]
  },
  {
   "cell_type": "markdown",
   "metadata": {},
   "source": [
    "*Con una función de if else, revisar si un número es primo o no"
   ]
  },
  {
   "cell_type": "code",
   "execution_count": 2,
   "metadata": {},
   "outputs": [
    {
     "name": "stdout",
     "output_type": "stream",
     "text": [
      "Introduzca un número: 7\n",
      "Es número primo\n"
     ]
    }
   ],
   "source": [
    "a = int(input(\"Introduzca un número: \"))\n",
    "\n",
    "raiz=int(a**.5)\n",
    "primo=True\n",
    "for i in range(2,raiz+1):\n",
    "    if a%i==0:\n",
    "        print(\"No es número primo\")\n",
    "        primo=False\n",
    "        break\n",
    "if primo==True:\n",
    "    print(\"Es número primo\")"
   ]
  },
  {
   "cell_type": "markdown",
   "metadata": {},
   "source": [
    "### Ejercicio 5\n",
    " Utilizando diferentes clases en python, crea una calculadora con los operadores básicos de suma, resta, multiplicación, división, y exponente."
   ]
  },
  {
   "cell_type": "code",
   "execution_count": 45,
   "metadata": {},
   "outputs": [
    {
     "data": {
      "text/plain": [
       "{'Suma': 8,\n",
       " 'Resta': 0,\n",
       " 'Multiplicación': 16,\n",
       " 'División': 1.0,\n",
       " 'Exponente': 256}"
      ]
     },
     "execution_count": 45,
     "metadata": {},
     "output_type": "execute_result"
    }
   ],
   "source": [
    "def calculadora1(a,b):  #Diccionarios\n",
    "    suma=a+b\n",
    "    resta=a-b\n",
    "    multiplicacion=a*b\n",
    "    division=a/b\n",
    "    exponencial=a**b\n",
    "    return {\"Suma\":suma,\"Resta\":resta,\"Multiplicación\":multiplicacion,\"División\":division,\"Exponente\":exponencial}\n",
    "calculadora1 (4,4)"
   ]
  },
  {
   "cell_type": "markdown",
   "metadata": {},
   "source": [
    "# Ejercicios con estructuras básicas de python\n",
    " \n",
    "### Tuplas\n",
    " *Crear una variable flotante, integer, boleana y compleja e imprimir el tipo de variable que es."
   ]
  },
  {
   "cell_type": "code",
   "execution_count": 46,
   "metadata": {},
   "outputs": [
    {
     "name": "stdout",
     "output_type": "stream",
     "text": [
      "<class 'float'>\n",
      "<class 'int'>\n",
      "<class 'bool'>\n",
      "<class 'complex'>\n"
     ]
    }
   ],
   "source": [
    "flot=3.1416\n",
    "inte=59\n",
    "bol=False\n",
    "comp=1j\n",
    "\n",
    "print(type(flot))\n",
    "print(type(inte))\n",
    "print(type(bol))\n",
    "print(type(comp))"
   ]
  },
  {
   "cell_type": "markdown",
   "metadata": {},
   "source": [
    " *Crear una tupla con valores enteros imprimir el primer y ultimo valor."
   ]
  },
  {
   "cell_type": "code",
   "execution_count": 48,
   "metadata": {},
   "outputs": [
    {
     "name": "stdout",
     "output_type": "stream",
     "text": [
      "Primer valor:  2\n",
      "Último valor:  9\n"
     ]
    }
   ],
   "source": [
    "tupla =(2,3,4,5,6,8,9)\n",
    "\n",
    "print(\"Primer valor: \",tupla[0])\n",
    "print(\"Último valor: \",tupla[-1])"
   ]
  },
  {
   "cell_type": "markdown",
   "metadata": {},
   "source": [
    "*Añadir 3 valores de string a la tupla"
   ]
  },
  {
   "cell_type": "code",
   "execution_count": 49,
   "metadata": {},
   "outputs": [
    {
     "data": {
      "text/plain": [
       "(2, 3, 4, 5, 6, 8, 9, 'Elias', 'Michelle', 'Luis')"
      ]
     },
     "execution_count": 49,
     "metadata": {},
     "output_type": "execute_result"
    }
   ],
   "source": [
    "tupla+(\"Elias\",\"Michelle\",\"Luis\")"
   ]
  },
  {
   "cell_type": "markdown",
   "metadata": {},
   "source": [
    "*Verificar si una variable existe dentro de la tupla."
   ]
  },
  {
   "cell_type": "code",
   "execution_count": 51,
   "metadata": {},
   "outputs": [
    {
     "data": {
      "text/plain": [
       "True"
      ]
     },
     "execution_count": 51,
     "metadata": {},
     "output_type": "execute_result"
    }
   ],
   "source": [
    "9 in tupla"
   ]
  },
  {
   "cell_type": "markdown",
   "metadata": {},
   "source": [
    "### Listas\n",
    "*Crear una lista con 40 elementos aleatorios enteros."
   ]
  },
  {
   "cell_type": "code",
   "execution_count": 9,
   "metadata": {},
   "outputs": [
    {
     "data": {
      "text/plain": [
       "[95,\n",
       " 65,\n",
       " 21,\n",
       " 53,\n",
       " 32,\n",
       " 10,\n",
       " 28,\n",
       " 41,\n",
       " 76,\n",
       " 60,\n",
       " 60,\n",
       " 29,\n",
       " 14,\n",
       " 54,\n",
       " 22,\n",
       " 30,\n",
       " 83,\n",
       " 41,\n",
       " 100,\n",
       " 32,\n",
       " 46,\n",
       " 30,\n",
       " 58,\n",
       " 75,\n",
       " 14,\n",
       " 71,\n",
       " 66,\n",
       " 88,\n",
       " 79,\n",
       " 41,\n",
       " 97,\n",
       " 100,\n",
       " 35,\n",
       " 65,\n",
       " 9,\n",
       " 87,\n",
       " 35,\n",
       " 72,\n",
       " 92,\n",
       " 96]"
      ]
     },
     "execution_count": 9,
     "metadata": {},
     "output_type": "execute_result"
    }
   ],
   "source": [
    "import random as r\n",
    "lista=[r.randint(1, 100) for i in range(40)]\n",
    "lista"
   ]
  },
  {
   "cell_type": "markdown",
   "metadata": {},
   "source": [
    "*Con una funcion (def) crear dos listas nuevas a partir de la lista creada por numeros aleatorios, en la cual en una esten los elementos pares, y en la otra los elementos impares."
   ]
  },
  {
   "cell_type": "code",
   "execution_count": 30,
   "metadata": {},
   "outputs": [
    {
     "name": "stdout",
     "output_type": "stream",
     "text": [
      "Números pares:  [32, 10, 28, 76, 60, 60, 14, 54, 22, 30, 100, 32, 46, 30, 58, 14, 66, 88, 100, 72, 92, 96]\n",
      "Números impares:  [95, 65, 21, 53, 41, 29, 83, 41, 75, 71, 79, 41, 97, 35, 65, 9, 87, 35]\n"
     ]
    }
   ],
   "source": [
    "def par_imp(lista):\n",
    "    par=[]\n",
    "    impar=[]\n",
    "    for i in range(len(lista)):\n",
    "        if lista[i]%2==0:\n",
    "            par.append(lista[i])\n",
    "        else:\n",
    "            impar.append(lista[i])\n",
    "    return par,impar\n",
    "\n",
    "\n",
    "par,impar=par_imp(lista)\n",
    "print(\"Números pares: \",par)\n",
    "print(\"Números impares: \",impar)"
   ]
  },
  {
   "cell_type": "markdown",
   "metadata": {},
   "source": [
    "*Crear dos variables con la longitud de ambas listas nuevas e imprimir las variables."
   ]
  },
  {
   "cell_type": "code",
   "execution_count": 31,
   "metadata": {},
   "outputs": [
    {
     "name": "stdout",
     "output_type": "stream",
     "text": [
      "Cantidad de números pares:  22\n",
      "Cantidad de números impares:  18\n"
     ]
    }
   ],
   "source": [
    "p=len(par)\n",
    "i=len(impar)\n",
    "print(\"Cantidad de números pares: \",p)\n",
    "print(\"Cantidad de números impares: \",i)"
   ]
  },
  {
   "cell_type": "markdown",
   "metadata": {},
   "source": [
    "*Ordenar los elementos de la lista par de mayor a menor, y los de la lista impar de menor a mayor."
   ]
  },
  {
   "cell_type": "code",
   "execution_count": 33,
   "metadata": {},
   "outputs": [
    {
     "data": {
      "text/plain": [
       "[100,\n",
       " 100,\n",
       " 96,\n",
       " 92,\n",
       " 88,\n",
       " 76,\n",
       " 72,\n",
       " 66,\n",
       " 60,\n",
       " 60,\n",
       " 58,\n",
       " 54,\n",
       " 46,\n",
       " 32,\n",
       " 32,\n",
       " 30,\n",
       " 30,\n",
       " 28,\n",
       " 22,\n",
       " 14,\n",
       " 14,\n",
       " 10]"
      ]
     },
     "execution_count": 33,
     "metadata": {},
     "output_type": "execute_result"
    }
   ],
   "source": [
    "par.sort(reverse=True)\n",
    "par"
   ]
  },
  {
   "cell_type": "code",
   "execution_count": 34,
   "metadata": {},
   "outputs": [
    {
     "data": {
      "text/plain": [
       "[97, 95, 87, 83, 79, 75, 71, 65, 65, 53, 41, 41, 41, 35, 35, 29, 21, 9]"
      ]
     },
     "execution_count": 34,
     "metadata": {},
     "output_type": "execute_result"
    }
   ],
   "source": [
    "impar.sort(reverse=True)\n",
    "impar"
   ]
  },
  {
   "cell_type": "markdown",
   "metadata": {},
   "source": [
    "*Utilizar al menos cuatro de las funciones de listas en python en la lista original de 40 elementos."
   ]
  },
  {
   "cell_type": "code",
   "execution_count": 35,
   "metadata": {},
   "outputs": [
    {
     "data": {
      "text/plain": [
       "[95,\n",
       " 65,\n",
       " 21,\n",
       " 53,\n",
       " 32,\n",
       " 10,\n",
       " 28,\n",
       " 41,\n",
       " 76,\n",
       " 60,\n",
       " 60,\n",
       " 29,\n",
       " 14,\n",
       " 54,\n",
       " 22,\n",
       " 30,\n",
       " 83,\n",
       " 41,\n",
       " 100,\n",
       " 32,\n",
       " 46,\n",
       " 30,\n",
       " 58,\n",
       " 75,\n",
       " 14,\n",
       " 71,\n",
       " 66,\n",
       " 88,\n",
       " 79,\n",
       " 41,\n",
       " 97,\n",
       " 100,\n",
       " 35,\n",
       " 65,\n",
       " 9,\n",
       " 87,\n",
       " 35,\n",
       " 72,\n",
       " 92,\n",
       " 96,\n",
       " 12,\n",
       " 45,\n",
       " 78,\n",
       " 90]"
      ]
     },
     "execution_count": 35,
     "metadata": {},
     "output_type": "execute_result"
    }
   ],
   "source": [
    "lista.extend([12,45,78,90])\n",
    "lista"
   ]
  },
  {
   "cell_type": "code",
   "execution_count": 38,
   "metadata": {},
   "outputs": [
    {
     "data": {
      "text/plain": [
       "[95,\n",
       " 65,\n",
       " 21,\n",
       " 53,\n",
       " 32,\n",
       " 10,\n",
       " 28,\n",
       " 41,\n",
       " 76,\n",
       " 60,\n",
       " 60,\n",
       " 29,\n",
       " 14,\n",
       " 54,\n",
       " 22,\n",
       " 30,\n",
       " 83,\n",
       " 41,\n",
       " 100,\n",
       " 32,\n",
       " 46,\n",
       " 30,\n",
       " 58,\n",
       " 75,\n",
       " 14,\n",
       " 71,\n",
       " 66,\n",
       " 88,\n",
       " 79,\n",
       " 41,\n",
       " 97,\n",
       " 100,\n",
       " 35,\n",
       " 65,\n",
       " 9,\n",
       " 87,\n",
       " 35,\n",
       " 72,\n",
       " 92,\n",
       " 96,\n",
       " 12,\n",
       " 45,\n",
       " 78]"
      ]
     },
     "execution_count": 38,
     "metadata": {},
     "output_type": "execute_result"
    }
   ],
   "source": [
    "lista.pop(-1)\n",
    "lista"
   ]
  },
  {
   "cell_type": "code",
   "execution_count": 41,
   "metadata": {},
   "outputs": [
    {
     "name": "stdout",
     "output_type": "stream",
     "text": [
      "Introducir numero:89\n",
      "Count 0\n"
     ]
    }
   ],
   "source": [
    "a =int(input (\"Introducir numero:\"))\n",
    "print(\"Count\",lista.count(a))\n"
   ]
  },
  {
   "cell_type": "code",
   "execution_count": 49,
   "metadata": {},
   "outputs": [
    {
     "data": {
      "text/plain": [
       "[78,\n",
       " 45,\n",
       " 12,\n",
       " 96,\n",
       " 92,\n",
       " 72,\n",
       " 35,\n",
       " 87,\n",
       " 9,\n",
       " 65,\n",
       " 35,\n",
       " 100,\n",
       " 97,\n",
       " 41,\n",
       " 79,\n",
       " 88,\n",
       " 66,\n",
       " 71,\n",
       " 14,\n",
       " 75,\n",
       " 58,\n",
       " 30,\n",
       " 46,\n",
       " 32,\n",
       " 100,\n",
       " 41,\n",
       " 83,\n",
       " 30,\n",
       " 22,\n",
       " 54,\n",
       " 14,\n",
       " 29,\n",
       " 60,\n",
       " 60,\n",
       " 76,\n",
       " 41,\n",
       " 28,\n",
       " 10,\n",
       " 32,\n",
       " 53,\n",
       " 21,\n",
       " 65,\n",
       " 95]"
      ]
     },
     "execution_count": 49,
     "metadata": {},
     "output_type": "execute_result"
    }
   ],
   "source": [
    "lista.reverse()\n",
    "lista"
   ]
  },
  {
   "cell_type": "markdown",
   "metadata": {},
   "source": [
    "### Diccionarios\n",
    "*Crear un diccionario de 6 personas que conozcas con su primer nombre y su edad."
   ]
  },
  {
   "cell_type": "code",
   "execution_count": 51,
   "metadata": {},
   "outputs": [
    {
     "data": {
      "text/plain": [
       "{'Michelle': 16, 'Luis': 45, 'Rocio': 43, 'Jose': 20, 'Elias': 9}"
      ]
     },
     "execution_count": 51,
     "metadata": {},
     "output_type": "execute_result"
    }
   ],
   "source": [
    "dic= {\"Michelle\":16,\"Luis\":45,\"Rocio\":43,\"Jose\":20,\"Elias\":9,\"Jose\":20}\n",
    "dic"
   ]
  },
  {
   "cell_type": "markdown",
   "metadata": {},
   "source": [
    "*Crear una lista con los valores de la edad y reacomodar la lista de menor a mayor valor."
   ]
  },
  {
   "cell_type": "code",
   "execution_count": 56,
   "metadata": {},
   "outputs": [
    {
     "data": {
      "text/plain": [
       "[9, 16, 20, 43, 45]"
      ]
     },
     "execution_count": 56,
     "metadata": {},
     "output_type": "execute_result"
    }
   ],
   "source": [
    "sorted (dic.values())"
   ]
  },
  {
   "cell_type": "markdown",
   "metadata": {},
   "source": [
    "*Usando el diccionario y un loop, imprimir solo los nombres."
   ]
  },
  {
   "cell_type": "code",
   "execution_count": 57,
   "metadata": {},
   "outputs": [
    {
     "name": "stdout",
     "output_type": "stream",
     "text": [
      "Michelle\n",
      "Luis\n",
      "Rocio\n",
      "Jose\n",
      "Elias\n"
     ]
    }
   ],
   "source": [
    "for i in dic:\n",
    "    print(i)"
   ]
  },
  {
   "cell_type": "markdown",
   "metadata": {},
   "source": [
    "*Añadir dos personas nuevas a tu diccionario, incluyendo edad."
   ]
  },
  {
   "cell_type": "code",
   "execution_count": 58,
   "metadata": {},
   "outputs": [
    {
     "data": {
      "text/plain": [
       "{'Michelle': 16,\n",
       " 'Luis': 45,\n",
       " 'Rocio': 43,\n",
       " 'Jose': 20,\n",
       " 'Elias': 9,\n",
       " 'Mika': 1,\n",
       " 'Monse': 16}"
      ]
     },
     "execution_count": 58,
     "metadata": {},
     "output_type": "execute_result"
    }
   ],
   "source": [
    "dic[\"Mika\"]=1\n",
    "dic[\"Monse\"]=16\n",
    "dic"
   ]
  },
  {
   "cell_type": "markdown",
   "metadata": {},
   "source": [
    "### Sets\n",
    "*Crea un set con 100 numeros aleatorios enteros del 1 al 25.\n"
   ]
  },
  {
   "cell_type": "code",
   "execution_count": 59,
   "metadata": {},
   "outputs": [
    {
     "data": {
      "text/plain": [
       "{1,\n",
       " 2,\n",
       " 3,\n",
       " 4,\n",
       " 5,\n",
       " 6,\n",
       " 7,\n",
       " 8,\n",
       " 9,\n",
       " 10,\n",
       " 11,\n",
       " 12,\n",
       " 13,\n",
       " 14,\n",
       " 15,\n",
       " 16,\n",
       " 17,\n",
       " 18,\n",
       " 19,\n",
       " 20,\n",
       " 21,\n",
       " 22,\n",
       " 23,\n",
       " 24,\n",
       " 25}"
      ]
     },
     "execution_count": 59,
     "metadata": {},
     "output_type": "execute_result"
    }
   ],
   "source": [
    "s={r.randint(1,25) for i in range(100)}\n",
    "s"
   ]
  },
  {
   "cell_type": "markdown",
   "metadata": {},
   "source": [
    "*Comprueba la longitud de tu set."
   ]
  },
  {
   "cell_type": "code",
   "execution_count": 60,
   "metadata": {},
   "outputs": [
    {
     "data": {
      "text/plain": [
       "25"
      ]
     },
     "execution_count": 60,
     "metadata": {},
     "output_type": "execute_result"
    }
   ],
   "source": [
    "len(s)"
   ]
  },
  {
   "cell_type": "markdown",
   "metadata": {},
   "source": [
    "*Crea una lista de 5 numeros aleatorios del 1 al 10 y comprueba si cada valor aparece en el set inicial."
   ]
  },
  {
   "cell_type": "code",
   "execution_count": 61,
   "metadata": {},
   "outputs": [
    {
     "data": {
      "text/plain": [
       "{1, 2, 6, 8}"
      ]
     },
     "execution_count": 61,
     "metadata": {},
     "output_type": "execute_result"
    }
   ],
   "source": [
    "m={r.randint(1,10) for i in range(5)}\n",
    "m"
   ]
  },
  {
   "cell_type": "code",
   "execution_count": 62,
   "metadata": {},
   "outputs": [
    {
     "name": "stdout",
     "output_type": "stream",
     "text": [
      "Introducir numero:2\n"
     ]
    },
    {
     "data": {
      "text/plain": [
       "True"
      ]
     },
     "execution_count": 62,
     "metadata": {},
     "output_type": "execute_result"
    }
   ],
   "source": [
    "a =int(input (\"Introducir numero:\"))\n",
    "a in m"
   ]
  }
 ],
 "metadata": {
  "kernelspec": {
   "display_name": "Python 3",
   "language": "python",
   "name": "python3"
  },
  "language_info": {
   "codemirror_mode": {
    "name": "ipython",
    "version": 3
   },
   "file_extension": ".py",
   "mimetype": "text/x-python",
   "name": "python",
   "nbconvert_exporter": "python",
   "pygments_lexer": "ipython3",
   "version": "3.8.5"
  }
 },
 "nbformat": 4,
 "nbformat_minor": 4
}
